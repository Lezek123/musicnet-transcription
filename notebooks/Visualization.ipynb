{
 "cells": [
  {
   "cell_type": "code",
   "execution_count": null,
   "metadata": {},
   "outputs": [],
   "source": [
    "import tensorflow as tf\n",
    "import numpy as np\n",
    "import typing\n",
    "import pandas as pd\n",
    "import seaborn as sns\n",
    "from tensorflow import keras\n",
    "from hydra import compose, initialize\n",
    "from omegaconf import OmegaConf\n",
    "from musicnet.config.Config import Config\n",
    "from musicnet.preprocessing.utils import get_datasets_info, load_vocabs\n",
    "from musicnet.preprocessing.wav_chunks_tfrecord.utils import create_tf_record_ds\n",
    "from musicnet.models.utils import MODEL_PATH\n",
    "from musicnet.preprocessing.dataset.base import DsName\n",
    "from matplotlib import pyplot as plt\n",
    "from sklearn.metrics import ConfusionMatrixDisplay"
   ]
  },
  {
   "cell_type": "code",
   "execution_count": null,
   "metadata": {},
   "outputs": [],
   "source": [
    "initialize(version_base=None, config_path=\"../scripts\")\n",
    "cfg = compose(config_name=\"defaults\", overrides=[\"stages=[]\", \"exp=False\"])"
   ]
  },
  {
   "cell_type": "code",
   "execution_count": null,
   "metadata": {},
   "outputs": [],
   "source": [
    "config = typing.cast(Config, OmegaConf.to_object(cfg))\n",
    "ds_infos = get_datasets_info(config)\n",
    "\n",
    "datasets: dict[DsName, tf.data.Dataset] = {}\n",
    "for ds_info in ds_infos:\n",
    "    if ds_info.name in [\"val\", \"test\"]:\n",
    "        datasets[ds_info.name] = create_tf_record_ds(ds_info.config, ds_info.name, shuffle=False)\n",
    "\n",
    "model = keras.models.load_model(MODEL_PATH)\n",
    "\n",
    "y_true = np.concatenate([y for x, y in datasets[\"test\"]], axis=0)\n",
    "y_pred = model.predict(datasets[\"test\"])\n",
    "y_pred = tf.sigmoid(y_pred)\n",
    "y_pred = y_pred.numpy()\n",
    "\n",
    "print(\"y_true shape\", y_true.shape)\n",
    "print(\"y_pred shape\", y_pred.shape)\n"
   ]
  },
  {
   "cell_type": "code",
   "execution_count": null,
   "metadata": {},
   "outputs": [],
   "source": [
    "# TODO: Establish what kind of metrics I want to have here:\n",
    "# - bar plot of precision/f1 grouped by individual notes\n",
    "# - bar plot of precision/f1 grouped by numer of silmulataneous notes\n",
    "# - bar plot of precision/f1 grouped by note_length bins\n",
    "# - bar plot of precision/f1 grouped by time_playing / time_remaining bins\n",
    "# - If midi is a source: bar plot of precision/f1 grouped by velocity bins (like 30-40, 40-50, 50-60 etc.) \n",
    "# - visualization of some fragment of predictions vs true values (something like notebooks/utils:y_vs_y_pred_vis)"
   ]
  },
  {
   "cell_type": "code",
   "execution_count": null,
   "metadata": {},
   "outputs": [],
   "source": [
    "y_true = y_true.reshape(-1, y_true.shape[-1])\n",
    "y_pred = y_pred.reshape(-1, y_pred.shape[-1])"
   ]
  },
  {
   "cell_type": "code",
   "execution_count": null,
   "metadata": {},
   "outputs": [],
   "source": [
    "instruments_vocab, notes_vocab = load_vocabs(config)"
   ]
  },
  {
   "cell_type": "code",
   "execution_count": null,
   "metadata": {},
   "outputs": [],
   "source": [
    "notes_vocab"
   ]
  },
  {
   "cell_type": "code",
   "execution_count": null,
   "metadata": {},
   "outputs": [],
   "source": [
    "def plot_f1_by_class(y_true: np.ndarray, y_pred: np.ndarray):\n",
    "    f1_per_note = keras.metrics.F1Score(average=None, threshold=0.5)(y_true, y_pred).numpy()\n",
    "    df = pd.DataFrame({\n",
    "        \"note\": notes_vocab.keys(),\n",
    "        \"f1_score\": f1_per_note\n",
    "    })\n",
    "    ax = sns.barplot(data=df, x=\"note\", y=\"f1_score\")\n",
    "    ax.bar_label(ax.containers[0], fontsize=10)\n",
    "    for bar in ax.patches:\n",
    "        g = (bar.get_height() - min(f1_per_note)) / (max(f1_per_note) - min(f1_per_note))\n",
    "        bar.set_color((1 - g, g, 0.))"
   ]
  },
  {
   "cell_type": "code",
   "execution_count": null,
   "metadata": {},
   "outputs": [],
   "source": [
    "def plot_average_fp_fn_count_by_silmultaneous(y_true: np.ndarray, y_pred: np.ndarray):\n",
    "    max_silmultaneous = int(np.max(y_true.sum(axis=1)))\n",
    "    fps = []\n",
    "    fns = []\n",
    "    for s in range(0, max_silmultaneous + 1):\n",
    "        indices = y_true.sum(axis=1) == s\n",
    "        fps.append(((y_true[indices] == False) & (y_pred[indices] >= 0.5)).sum(axis=1).mean())\n",
    "        fns.append(((y_true[indices] == True) & (y_pred[indices] < 0.5)).sum(axis=1).mean())\n",
    "    df = pd.DataFrame({\n",
    "        \"silmultaneous_notes\": list(range(0, max_silmultaneous + 1)) * 2,\n",
    "        \"metric\": [\"fp\"] * len(fps) + [\"fn\"] * len(fns),\n",
    "        \"value\": fps + fns\n",
    "    })\n",
    "    ax = sns.barplot(data=df, x=\"silmultaneous_notes\", y=\"value\", hue=\"metric\")\n",
    "    ax.bar_label(ax.containers[0], fontsize=10)\n",
    "    ax.bar_label(ax.containers[1], fontsize=10)\n",
    "    # for bar in ax.patches:\n",
    "    #     g = (bar.get_height() - min(fps)) / (max(fps) - min(fps))\n",
    "    #     bar.set_color((1 - g, g, 0.))"
   ]
  },
  {
   "cell_type": "code",
   "execution_count": null,
   "metadata": {},
   "outputs": [],
   "source": [
    "def plot_confusion_matrix(y_true: np.ndarray, y_pred: np.ndarray):\n",
    "    # For each note we calculate the percentage of false positives of other notes\n",
    "    conf_matrix = []\n",
    "    for n in notes_vocab.values():\n",
    "        indices = y_true[:, n] == True\n",
    "        false_positives = ((y_pred[indices] > 0.5) & (y_true[indices] == False)).sum(axis=0) / y_true.shape[0]\n",
    "        conf_matrix.append(false_positives)\n",
    "    conf_matrix = np.array(conf_matrix)\n",
    "    disp = ConfusionMatrixDisplay(conf_matrix, display_labels=list(notes_vocab.keys()))\n",
    "    plt.figure(figsize=(10, 10))\n",
    "    plt.title(\"True labels vs false positives\")\n",
    "    disp.plot(ax=plt.gca())"
   ]
  },
  {
   "cell_type": "code",
   "execution_count": null,
   "metadata": {},
   "outputs": [],
   "source": [
    "np.unique(y_true.sum(axis=1), return_counts=True)"
   ]
  },
  {
   "cell_type": "code",
   "execution_count": null,
   "metadata": {},
   "outputs": [],
   "source": [
    "plot_f1_by_class(y_true, y_pred)"
   ]
  },
  {
   "cell_type": "code",
   "execution_count": null,
   "metadata": {},
   "outputs": [],
   "source": [
    "plot_average_fp_fn_count_by_silmultaneous(y_true, y_pred)"
   ]
  },
  {
   "cell_type": "code",
   "execution_count": null,
   "metadata": {},
   "outputs": [],
   "source": [
    "plot_confusion_matrix(y_true, y_pred)"
   ]
  },
  {
   "cell_type": "code",
   "execution_count": null,
   "metadata": {},
   "outputs": [],
   "source": []
  }
 ],
 "metadata": {
  "kernelspec": {
   "display_name": ".venv",
   "language": "python",
   "name": "python3"
  },
  "language_info": {
   "codemirror_mode": {
    "name": "ipython",
    "version": 3
   },
   "file_extension": ".py",
   "mimetype": "text/x-python",
   "name": "python",
   "nbconvert_exporter": "python",
   "pygments_lexer": "ipython3",
   "version": "3.10.5"
  }
 },
 "nbformat": 4,
 "nbformat_minor": 2
}
