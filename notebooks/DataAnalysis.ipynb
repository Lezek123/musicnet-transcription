{
 "cells": [
  {
   "cell_type": "code",
   "execution_count": null,
   "metadata": {},
   "outputs": [],
   "source": [
    "import tensorflow as tf\n",
    "import numpy as np\n",
    "import typing\n",
    "import pandas as pd\n",
    "import seaborn as sns\n",
    "from tensorflow import keras\n",
    "from hydra import compose, initialize\n",
    "from omegaconf import OmegaConf\n",
    "from musicnet.config.Config import Config\n",
    "from musicnet.preprocessing.utils import get_datasets_info, load_vocabs\n",
    "from musicnet.preprocessing.wav_chunks_tfrecord.utils import create_tf_record_ds\n",
    "from musicnet.models.utils import MODEL_PATH\n",
    "from musicnet.preprocessing.dataset.base import DsName\n",
    "from matplotlib import pyplot as plt\n",
    "from sklearn.metrics import ConfusionMatrixDisplay\n",
    "from musicnet.preprocessing.utils import load_source_dataset, get_datasets_info, load_vocabs\n",
    "import mido"
   ]
  },
  {
   "cell_type": "code",
   "execution_count": null,
   "metadata": {},
   "outputs": [],
   "source": [
    "initialize(version_base=None, config_path=\"../scripts\")\n",
    "cfg = compose(config_name=\"defaults\", overrides=[\"stages=[]\", \"exp=False\"])"
   ]
  },
  {
   "cell_type": "code",
   "execution_count": null,
   "metadata": {},
   "outputs": [],
   "source": [
    "config = typing.cast(Config, OmegaConf.to_object(cfg))\n",
    "ds_infos = get_datasets_info(config)"
   ]
  },
  {
   "cell_type": "code",
   "execution_count": null,
   "metadata": {},
   "outputs": [],
   "source": [
    "ds_infos"
   ]
  },
  {
   "cell_type": "code",
   "execution_count": null,
   "metadata": {},
   "outputs": [],
   "source": [
    "_, notes_vocab = load_vocabs(config)\n",
    "model = keras.models.load_model(MODEL_PATH)"
   ]
  },
  {
   "cell_type": "code",
   "execution_count": null,
   "metadata": {},
   "outputs": [],
   "source": [
    "def tp_fp_fn_by_note_plot(y_true, y_pred):\n",
    "    counts = pd.DataFrame({\n",
    "        \"note\": list(notes_vocab.keys()) * 3,\n",
    "        \"metric\": np.repeat([\"tp\", \"fp\", \"fn\"], len(notes_vocab)),\n",
    "        \"value\": np.concatenate([\n",
    "            ((y_true == 1) & (y_pred >= 0)).sum(axis=0),\n",
    "            ((y_true == 0) & (y_pred >= 0)).sum(axis=0),\n",
    "            ((y_true == 1) & (y_pred < 0)).sum(axis=0)\n",
    "        ], axis=0)\n",
    "    })\n",
    "\n",
    "    sns.barplot(counts, x=\"value\", y=\"note\", hue=\"metric\", orient=\"y\", ax=plt.gca())"
   ]
  },
  {
   "cell_type": "code",
   "execution_count": null,
   "metadata": {},
   "outputs": [],
   "source": [
    "plt.figure(figsize=(20, 30))\n",
    "for i, ds_info in enumerate(ds_infos[1:]):\n",
    "    # src_ds = load_source_dataset(ds_info.config, ds_info.src_name)\n",
    "    ds =  create_tf_record_ds(ds_info.config, ds_info.name, shuffle=False)\n",
    "    y_true = np.concatenate([y_batch for _, y_batch in ds.as_numpy_iterator()])\n",
    "    y_pred = model.predict(ds)\n",
    "    print(y_true.shape, y_pred.shape)\n",
    "    y_true = y_true.reshape(-1, y_true.shape[-1])\n",
    "    y_pred = y_pred.reshape(-1, y_pred.shape[-1])\n",
    "    print(y_true.shape, y_pred.shape)\n",
    "    plt.subplot(1, 2, i+1)\n",
    "    tp_fp_fn_by_note_plot(y_true, y_pred)\n",
    "\n",
    "plt.tight_layout()\n",
    "plt.show()"
   ]
  },
  {
   "cell_type": "code",
   "execution_count": null,
   "metadata": {},
   "outputs": [],
   "source": []
  }
 ],
 "metadata": {
  "kernelspec": {
   "display_name": ".venv",
   "language": "python",
   "name": "python3"
  },
  "language_info": {
   "codemirror_mode": {
    "name": "ipython",
    "version": 3
   },
   "file_extension": ".py",
   "mimetype": "text/x-python",
   "name": "python",
   "nbconvert_exporter": "python",
   "pygments_lexer": "ipython3",
   "version": "3.10.5"
  }
 },
 "nbformat": 4,
 "nbformat_minor": 2
}
