{
 "cells": [
  {
   "cell_type": "code",
   "execution_count": 19,
   "metadata": {},
   "outputs": [],
   "source": [
    "import tensorflow as tf\n",
    "import numpy as np\n",
    "import typing\n",
    "import pandas as pd\n",
    "import seaborn as sns\n",
    "from tensorflow import keras\n",
    "from hydra import compose, initialize\n",
    "from omegaconf import OmegaConf\n",
    "from musicnet.config.Config import Config\n",
    "from musicnet.preprocessing.utils import get_datasets_info, load_vocabs\n",
    "from musicnet.preprocessing.wav_chunks_tfrecord.utils import create_tf_record_ds\n",
    "from musicnet.models.utils import MODEL_PATH\n",
    "from musicnet.preprocessing.dataset.base import DsName\n",
    "from matplotlib import pyplot as plt\n",
    "from sklearn.metrics import ConfusionMatrixDisplay\n",
    "from musicnet.preprocessing.utils import load_source_dataset, get_datasets_info, load_vocabs\n",
    "import mido"
   ]
  },
  {
   "cell_type": "code",
   "execution_count": 2,
   "metadata": {},
   "outputs": [],
   "source": [
    "initialize(version_base=None, config_path=\"../scripts\")\n",
    "cfg = compose(config_name=\"defaults\", overrides=[\"stages=[]\", \"exp=False\"])"
   ]
  },
  {
   "cell_type": "code",
   "execution_count": 5,
   "metadata": {},
   "outputs": [],
   "source": [
    "config = typing.cast(Config, OmegaConf.to_object(cfg))\n",
    "ds_infos = get_datasets_info(config)"
   ]
  },
  {
   "cell_type": "code",
   "execution_count": 6,
   "metadata": {},
   "outputs": [
    {
     "data": {
      "text/plain": [
       "[DsInfo(name='train', config=DsConfig(wav_source=SynthMidiToWavConfig(type=<WavSourceType.SYNTH_MIDI_TO_WAV: 'synth_midi_to_wav'>, tps=100, min_note_ticks=1, max_note_ticks=100, max_silmultaneous_notes=9, sidechannel_sparsity=1, min_note=20, max_note=105, notes_std=20, track_length_per_note=900, velocity_min=64, velocity_max=127), preprocessor=WavChunksTFRecordPreprocessorConfig(type=<PreprocessorType.WAV_CHUNKS_TFRECORDS: 'wav_chunks_tfrecords'>, params=WavChunksTFRecordPreprocessorParams(chunk_size_sec=10, chunk_shift_sec=5, target_sr=44100, note_rounding=0.01, spectogram=SpectogramParams(n_fft=2205, hop_length=441, min_hz=0, n_filters=200, unit=<SpectogramUnit.DECIBELS: 'decibels'>)), file_count=20), batch_size=8, split=None)),\n",
       " DsInfo(name='val', config=DsConfig(wav_source=SynthMidiToWavConfig(type=<WavSourceType.SYNTH_MIDI_TO_WAV: 'synth_midi_to_wav'>, tps=100, min_note_ticks=1, max_note_ticks=100, max_silmultaneous_notes=9, sidechannel_sparsity=1, min_note=20, max_note=105, notes_std=20, track_length_per_note=300, velocity_min=64, velocity_max=127), preprocessor=WavChunksTFRecordPreprocessorConfig(type=<PreprocessorType.WAV_CHUNKS_TFRECORDS: 'wav_chunks_tfrecords'>, params=WavChunksTFRecordPreprocessorParams(chunk_size_sec=10, chunk_shift_sec=5, target_sr=44100, note_rounding=0.01, spectogram=SpectogramParams(n_fft=2205, hop_length=441, min_hz=0, n_filters=200, unit=<SpectogramUnit.DECIBELS: 'decibels'>)), file_count=20), batch_size=8, split=None)),\n",
       " DsInfo(name='test', config=DsConfig(wav_source=MusicNetMidiToWavConfig(type=<WavSourceType.MUSICNET_MIDI_TO_WAV: 'musicnet_midi_to_wav'>, mn_ds_type=<MnDatasetType.TRAIN: 'train'>, programs_whitelist=[0]), preprocessor=WavChunksTFRecordPreprocessorConfig(type=<PreprocessorType.WAV_CHUNKS_TFRECORDS: 'wav_chunks_tfrecords'>, params=WavChunksTFRecordPreprocessorParams(chunk_size_sec=10, chunk_shift_sec=5, target_sr=44100, note_rounding=0.01, spectogram=SpectogramParams(n_fft=2205, hop_length=441, min_hz=0, n_filters=200, unit=<SpectogramUnit.DECIBELS: 'decibels'>)), file_count=20), batch_size=8, split=[0.0, 0.2]))]"
      ]
     },
     "execution_count": 6,
     "metadata": {},
     "output_type": "execute_result"
    }
   ],
   "source": [
    "ds_infos"
   ]
  },
  {
   "cell_type": "code",
   "execution_count": 7,
   "metadata": {},
   "outputs": [],
   "source": [
    "dataset = load_source_dataset(ds_infos[-1].config, ds_infos[-1].src_name)"
   ]
  },
  {
   "cell_type": "code",
   "execution_count": 12,
   "metadata": {},
   "outputs": [],
   "source": [
    "track = dataset.get_track(1728)"
   ]
  },
  {
   "cell_type": "code",
   "execution_count": 17,
   "metadata": {},
   "outputs": [
    {
     "data": {
      "text/html": [
       "<div>\n",
       "<style scoped>\n",
       "    .dataframe tbody tr th:only-of-type {\n",
       "        vertical-align: middle;\n",
       "    }\n",
       "\n",
       "    .dataframe tbody tr th {\n",
       "        vertical-align: top;\n",
       "    }\n",
       "\n",
       "    .dataframe thead th {\n",
       "        text-align: right;\n",
       "    }\n",
       "</style>\n",
       "<table border=\"1\" class=\"dataframe\">\n",
       "  <thead>\n",
       "    <tr style=\"text-align: right;\">\n",
       "      <th></th>\n",
       "      <th>note</th>\n",
       "      <th>channel</th>\n",
       "      <th>instrument</th>\n",
       "      <th>start</th>\n",
       "      <th>end</th>\n",
       "      <th>velocity</th>\n",
       "    </tr>\n",
       "  </thead>\n",
       "  <tbody>\n",
       "    <tr>\n",
       "      <th>0</th>\n",
       "      <td>64</td>\n",
       "      <td>4</td>\n",
       "      <td>1</td>\n",
       "      <td>1.437500</td>\n",
       "      <td>1.631925</td>\n",
       "      <td>100.0</td>\n",
       "    </tr>\n",
       "    <tr>\n",
       "      <th>1</th>\n",
       "      <td>61</td>\n",
       "      <td>4</td>\n",
       "      <td>1</td>\n",
       "      <td>1.437500</td>\n",
       "      <td>1.631925</td>\n",
       "      <td>100.0</td>\n",
       "    </tr>\n",
       "    <tr>\n",
       "      <th>2</th>\n",
       "      <td>57</td>\n",
       "      <td>4</td>\n",
       "      <td>1</td>\n",
       "      <td>1.437500</td>\n",
       "      <td>1.631925</td>\n",
       "      <td>100.0</td>\n",
       "    </tr>\n",
       "    <tr>\n",
       "      <th>3</th>\n",
       "      <td>52</td>\n",
       "      <td>4</td>\n",
       "      <td>1</td>\n",
       "      <td>1.437500</td>\n",
       "      <td>1.631925</td>\n",
       "      <td>100.0</td>\n",
       "    </tr>\n",
       "    <tr>\n",
       "      <th>4</th>\n",
       "      <td>49</td>\n",
       "      <td>4</td>\n",
       "      <td>1</td>\n",
       "      <td>1.437500</td>\n",
       "      <td>1.631925</td>\n",
       "      <td>100.0</td>\n",
       "    </tr>\n",
       "    <tr>\n",
       "      <th>...</th>\n",
       "      <td>...</td>\n",
       "      <td>...</td>\n",
       "      <td>...</td>\n",
       "      <td>...</td>\n",
       "      <td>...</td>\n",
       "      <td>...</td>\n",
       "    </tr>\n",
       "    <tr>\n",
       "      <th>2737</th>\n",
       "      <td>85</td>\n",
       "      <td>4</td>\n",
       "      <td>1</td>\n",
       "      <td>236.886908</td>\n",
       "      <td>236.886908</td>\n",
       "      <td>100.0</td>\n",
       "    </tr>\n",
       "    <tr>\n",
       "      <th>2738</th>\n",
       "      <td>81</td>\n",
       "      <td>4</td>\n",
       "      <td>1</td>\n",
       "      <td>236.886908</td>\n",
       "      <td>236.886908</td>\n",
       "      <td>100.0</td>\n",
       "    </tr>\n",
       "    <tr>\n",
       "      <th>2739</th>\n",
       "      <td>76</td>\n",
       "      <td>4</td>\n",
       "      <td>1</td>\n",
       "      <td>236.886908</td>\n",
       "      <td>236.886908</td>\n",
       "      <td>100.0</td>\n",
       "    </tr>\n",
       "    <tr>\n",
       "      <th>2740</th>\n",
       "      <td>73</td>\n",
       "      <td>4</td>\n",
       "      <td>1</td>\n",
       "      <td>236.886908</td>\n",
       "      <td>236.886908</td>\n",
       "      <td>100.0</td>\n",
       "    </tr>\n",
       "    <tr>\n",
       "      <th>2741</th>\n",
       "      <td>69</td>\n",
       "      <td>4</td>\n",
       "      <td>1</td>\n",
       "      <td>236.886908</td>\n",
       "      <td>236.886908</td>\n",
       "      <td>100.0</td>\n",
       "    </tr>\n",
       "  </tbody>\n",
       "</table>\n",
       "<p>2742 rows × 6 columns</p>\n",
       "</div>"
      ],
      "text/plain": [
       "      note  channel  instrument       start         end  velocity\n",
       "0       64        4           1    1.437500    1.631925     100.0\n",
       "1       61        4           1    1.437500    1.631925     100.0\n",
       "2       57        4           1    1.437500    1.631925     100.0\n",
       "3       52        4           1    1.437500    1.631925     100.0\n",
       "4       49        4           1    1.437500    1.631925     100.0\n",
       "...    ...      ...         ...         ...         ...       ...\n",
       "2737    85        4           1  236.886908  236.886908     100.0\n",
       "2738    81        4           1  236.886908  236.886908     100.0\n",
       "2739    76        4           1  236.886908  236.886908     100.0\n",
       "2740    73        4           1  236.886908  236.886908     100.0\n",
       "2741    69        4           1  236.886908  236.886908     100.0\n",
       "\n",
       "[2742 rows x 6 columns]"
      ]
     },
     "execution_count": 17,
     "metadata": {},
     "output_type": "execute_result"
    }
   ],
   "source": [
    "track.get_notes()"
   ]
  },
  {
   "cell_type": "code",
   "execution_count": 14,
   "metadata": {},
   "outputs": [
    {
     "data": {
      "text/plain": [
       "236.8869084583339"
      ]
     },
     "execution_count": 14,
     "metadata": {},
     "output_type": "execute_result"
    }
   ],
   "source": [
    "track.get_notes()[\"end\"].max()"
   ]
  },
  {
   "cell_type": "code",
   "execution_count": 15,
   "metadata": {},
   "outputs": [
    {
     "data": {
      "text/plain": [
       "251.26167800453516"
      ]
     },
     "execution_count": 15,
     "metadata": {},
     "output_type": "execute_result"
    }
   ],
   "source": [
    "track.get_duration()"
   ]
  },
  {
   "cell_type": "code",
   "execution_count": 20,
   "metadata": {},
   "outputs": [],
   "source": [
    "midi_path = track.get_midi_path()\n",
    "midi = mido.MidiFile(midi_path)"
   ]
  },
  {
   "cell_type": "code",
   "execution_count": 21,
   "metadata": {},
   "outputs": [
    {
     "data": {
      "text/plain": [
       "480"
      ]
     },
     "execution_count": 21,
     "metadata": {},
     "output_type": "execute_result"
    }
   ],
   "source": [
    "midi.ticks_per_beat"
   ]
  },
  {
   "cell_type": "code",
   "execution_count": 26,
   "metadata": {},
   "outputs": [
    {
     "name": "stdout",
     "output_type": "stream",
     "text": [
      "251.26638146250053\n"
     ]
    }
   ],
   "source": [
    "time = 0\n",
    "for msg in midi:\n",
    "    time += msg.time\n",
    "print(time)"
   ]
  },
  {
   "cell_type": "code",
   "execution_count": null,
   "metadata": {},
   "outputs": [],
   "source": []
  }
 ],
 "metadata": {
  "kernelspec": {
   "display_name": ".venv",
   "language": "python",
   "name": "python3"
  },
  "language_info": {
   "codemirror_mode": {
    "name": "ipython",
    "version": 3
   },
   "file_extension": ".py",
   "mimetype": "text/x-python",
   "name": "python",
   "nbconvert_exporter": "python",
   "pygments_lexer": "ipython3",
   "version": "3.10.5"
  }
 },
 "nbformat": 4,
 "nbformat_minor": 2
}
