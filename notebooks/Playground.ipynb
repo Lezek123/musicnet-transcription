{
 "cells": [
  {
   "cell_type": "code",
   "execution_count": null,
   "metadata": {},
   "outputs": [],
   "source": [
    "import os\n",
    "import logging, os\n",
    "\n",
    "logging.disable(logging.WARNING)\n",
    "os.environ['TF_CPP_MIN_LOG_LEVEL'] = '2' "
   ]
  },
  {
   "cell_type": "code",
   "execution_count": null,
   "metadata": {},
   "outputs": [],
   "source": [
    "from matplotlib import pyplot as plt\n",
    "from musicnet.utils import Track, get_train_ids, instruments_vocab, notes_vocab\n",
    "import librosa\n",
    "import numpy as np\n",
    "import tensorflow as tf\n",
    "from tensorflow import keras\n",
    "from glob import glob\n",
    "from musicnet.models.transformer.Transformer import TransformerLRSchedule, WarmupLRSchedule\n",
    "from sklearn.metrics import precision_score, recall_score, f1_score\n",
    "from tensorflow.nn import weighted_cross_entropy_with_logits\n",
    "from musicnet.preprocessing.midi_to_wav.utils import MidiConvertedTrack, get_midi_train_ids\n",
    "from musicnet.preprocessing.wav_specs_and_notes.utils import load_params, Preprocessor, create_tf_record_ds\n",
    "import mido"
   ]
  },
  {
   "cell_type": "code",
   "execution_count": null,
   "metadata": {},
   "outputs": [],
   "source": [
    "tf.__version__"
   ]
  },
  {
   "cell_type": "code",
   "execution_count": null,
   "metadata": {},
   "outputs": [],
   "source": [
    "tf.config.list_physical_devices(\"GPU\")"
   ]
  },
  {
   "cell_type": "code",
   "execution_count": null,
   "metadata": {},
   "outputs": [],
   "source": [
    "params = load_params()"
   ]
  },
  {
   "cell_type": "code",
   "execution_count": null,
   "metadata": {},
   "outputs": [],
   "source": [
    "print(params)"
   ]
  },
  {
   "cell_type": "code",
   "execution_count": null,
   "metadata": {},
   "outputs": [],
   "source": [
    "if params[\"instruments_whitelist\"]:\n",
    "    instruments_vocab = { v: k for k, v in enumerate(params[\"instruments_whitelist\"]) }"
   ]
  },
  {
   "cell_type": "code",
   "execution_count": null,
   "metadata": {},
   "outputs": [],
   "source": [
    "ds_params = {\n",
    "    \"n_filters\": params[\"preprocessor\"][\"n_filters\"],\n",
    "    \"target_classes\": len(instruments_vocab) * len(notes_vocab),\n",
    "    \"batch_size\": 8,\n",
    "}\n",
    "train_ds = create_tf_record_ds(\"train\", **ds_params)"
   ]
  },
  {
   "cell_type": "code",
   "execution_count": null,
   "metadata": {},
   "outputs": [],
   "source": [
    "for batch in train_ds:\n",
    "    print(batch)\n",
    "    break"
   ]
  },
  {
   "cell_type": "code",
   "execution_count": null,
   "metadata": {},
   "outputs": [],
   "source": [
    "id = get_midi_train_ids()[-1]\n",
    "track = MidiConvertedTrack(id)\n",
    "preprocessor = Preprocessor(**params[\"preprocessor\"], ins)\n",
    "x_chunks, y_chunks = preprocessor.preprocess(track)"
   ]
  },
  {
   "cell_type": "code",
   "execution_count": null,
   "metadata": {},
   "outputs": [],
   "source": [
    "print(x_chunks.shape, y_chunks.shape)"
   ]
  },
  {
   "cell_type": "code",
   "execution_count": null,
   "metadata": {},
   "outputs": [],
   "source": [
    "track.get_metadata()"
   ]
  },
  {
   "cell_type": "code",
   "execution_count": null,
   "metadata": {},
   "outputs": [],
   "source": [
    "track.get_midi_path()"
   ]
  },
  {
   "cell_type": "code",
   "execution_count": null,
   "metadata": {},
   "outputs": [],
   "source": [
    "notes = track.read_midi_notes()"
   ]
  },
  {
   "cell_type": "code",
   "execution_count": null,
   "metadata": {},
   "outputs": [],
   "source": [
    "len(notes)"
   ]
  },
  {
   "cell_type": "code",
   "execution_count": null,
   "metadata": {},
   "outputs": [],
   "source": [
    "# mid = mido.MidiFile(track.get_midi_path())\n",
    "\n",
    "# i = 0\n",
    "# for msg in mid:\n",
    "#     # if msg.type == \"control_change\" or msg.type == \"program_change\":\n",
    "#     #     print(msg)\n",
    "#     if msg.type == \"note_on\":\n",
    "#         print(msg)"
   ]
  },
  {
   "cell_type": "code",
   "execution_count": null,
   "metadata": {},
   "outputs": [],
   "source": [
    "midi_notes = track.read_midi_notes()"
   ]
  },
  {
   "cell_type": "code",
   "execution_count": null,
   "metadata": {},
   "outputs": [],
   "source": [
    "print(midi_notes.iloc[10:])\n",
    "print(midi_notes.iloc[-10:])"
   ]
  },
  {
   "cell_type": "code",
   "execution_count": null,
   "metadata": {},
   "outputs": [],
   "source": [
    "csv_data = track.read_csv_data()\n",
    "\n",
    "print(csv_data.iloc[:10])\n",
    "print(csv_data.iloc[-10:])"
   ]
  },
  {
   "cell_type": "code",
   "execution_count": null,
   "metadata": {},
   "outputs": [],
   "source": [
    "np.array(sorted(csv_data[\"instrument\"].unique()))"
   ]
  },
  {
   "cell_type": "code",
   "execution_count": null,
   "metadata": {},
   "outputs": [],
   "source": [
    "np.array(sorted(midi_notes[\"program\"].unique()))"
   ]
  },
  {
   "cell_type": "code",
   "execution_count": null,
   "metadata": {},
   "outputs": [],
   "source": [
    "# print(csv_data[\"instrument\"].unique())"
   ]
  },
  {
   "cell_type": "code",
   "execution_count": null,
   "metadata": {},
   "outputs": [],
   "source": [
    "# print(instruments_vocab)"
   ]
  },
  {
   "cell_type": "code",
   "execution_count": null,
   "metadata": {},
   "outputs": [],
   "source": [
    "print(x_chunks.shape, y_chunks.shape)"
   ]
  },
  {
   "cell_type": "code",
   "execution_count": null,
   "metadata": {},
   "outputs": [],
   "source": [
    "plt.figure(figsize=(20, 15))\n",
    "\n",
    "for i in range(0, 2):\n",
    "    plt.subplot(2, 2, i+1)\n",
    "    librosa.display.specshow(\n",
    "        x_chunks[i].T,\n",
    "        sr=params[\"preprocessor\"][\"target_sr\"],\n",
    "        x_axis=\"time\",\n",
    "        y_axis=\"mel\",\n",
    "        hop_length=params[\"preprocessor\"][\"hop_length\"],\n",
    "        fmin=16,\n",
    "        fmax=4096\n",
    "    )\n",
    "    plt.colorbar(label=\"dB\")\n",
    "    plt.title('Mel-Spectrogram (dB)', fontdict=dict(size=18))\n",
    "    plt.xlabel('Time', fontdict=dict(size=15))\n",
    "    plt.ylabel('Frequency', fontdict=dict(size=15))\n",
    "\n",
    "for i in range(0, 2):\n",
    "    plt.subplot(2, 2, i+3)\n",
    "    plt.imshow(y_chunks[i].T, aspect=\"auto\")\n",
    "    plt.colorbar()"
   ]
  },
  {
   "cell_type": "code",
   "execution_count": null,
   "metadata": {},
   "outputs": [],
   "source": [
    "y_pred = np.array([\n",
    "    [ # First sequence\n",
    "        [0.7, 0, 0, 0],\n",
    "        [0.7, 0, 0.7, 0.7],\n",
    "        [0, 0, 0, 0],\n",
    "        [0, 0.7, 0, 0]\n",
    "    ],\n",
    "    [ # Second sequence\n",
    "        [0.7, 0.7, 0.7, 0.7],\n",
    "        [0, 0, 0, 0],\n",
    "        [0.7, 0.7, 0.7, 0.7],\n",
    "        [0, 0, 0, 0]\n",
    "    ]\n",
    "])\n",
    "\n",
    "y_true = np.array([\n",
    "    [ # First sequence\n",
    "        [1, 0, 0, 0],\n",
    "        [1, 1, 1, 0],\n",
    "        [1, 0, 0, 0],\n",
    "        [1, 1, 0, 1]\n",
    "    ],\n",
    "    [ # Second sequence\n",
    "        [0, 1, 1, 1],\n",
    "        [0, 0, 0, 1],\n",
    "        [0, 0, 1, 1],\n",
    "        [0, 0, 0, 1]\n",
    "    ] \n",
    "])\n",
    "f1 = keras.metrics.F1Score(threshold=0.5, average=\"macro\")\n",
    "f1.update_state(y_true.reshape(-1, 4), y_pred.reshape(-1, 4))\n",
    "\n",
    "f1s = []\n",
    "for c in range(0, 4):\n",
    "    # Calculate precision, recall and f1 separately for each class:\n",
    "    y_pred_c = y_pred[:, :, c].flatten()\n",
    "    y_true_c = y_true[:, :, c].flatten()\n",
    "    f1_c = f1_score(y_true_c, y_pred_c > 0.5)\n",
    "    f1s.append(f1_c)\n",
    "    print(c, {\n",
    "        \"precision\":precision_score(y_true_c, y_pred_c > 0.5),\n",
    "        \"recall\": recall_score(y_true_c, y_pred_c > 0.5),\n",
    "        \"f1\": f1_c\n",
    "    })\n",
    "\n",
    "print(\"Final result: \", f1.result())\n",
    "print(\"Avg f1:\", np.mean(f1s))"
   ]
  },
  {
   "cell_type": "code",
   "execution_count": null,
   "metadata": {},
   "outputs": [],
   "source": [
    "inputs = np.array([\n",
    "    [\n",
    "        [10, 0.1],\n",
    "        [20, 0.05],\n",
    "        [40, 0.1],\n",
    "        [20, 0.2],\n",
    "        [10, 0.1]\n",
    "    ],\n",
    "    [\n",
    "        [15, 0.05],\n",
    "        [25, 0.03],\n",
    "        [40, 0.1],\n",
    "        [20, 0.2],\n",
    "        [35, 0.15]\n",
    "    ]\n",
    "], dtype=np.float64)\n",
    "bn = keras.layers.BatchNormalization(epsilon=1e-5)\n",
    "print(\"Batch mean\", inputs.reshape(-1, inputs.shape[-1]).mean(axis=0))\n",
    "print(\"Batch std\", inputs.reshape(-1, inputs.shape[-1]).std(axis=0))\n",
    "print(\n",
    "    \"Numpy calc (batch dim flatten)\",\n",
    "    np.round((inputs - inputs.reshape(-1, inputs.shape[-1]).mean(axis=0)) / inputs.reshape(-1, inputs.shape[-1]).std(axis=0), 2)\n",
    ")\n",
    "print(\n",
    "    \"BatchNorm layer\",\n",
    "    np.round(bn(inputs, training=True).numpy(), 2)\n",
    ")\n",
    "print(bn.weights[0].value)\n",
    "print(bn.weights[1].value)\n",
    "print(bn.weights[2].value)\n",
    "print(bn.weights[3].value)"
   ]
  },
  {
   "cell_type": "code",
   "execution_count": null,
   "metadata": {},
   "outputs": [],
   "source": [
    "transformer_lr_schedule = TransformerLRSchedule(128, 4000)\n",
    "warmup_lr_schedule = WarmupLRSchedule(0.0002, 4000)\n",
    "plt.plot(transformer_lr_schedule(tf.range(40000, dtype=tf.float32)), label=\"TransformerLRSchedule\")\n",
    "plt.plot(warmup_lr_schedule(tf.range(40000, dtype=tf.float32)), label=\"WarmupLRSchedule\")\n",
    "plt.ylabel('Learning Rate')\n",
    "plt.xlabel('Train Step')"
   ]
  },
  {
   "cell_type": "code",
   "execution_count": null,
   "metadata": {},
   "outputs": [],
   "source": []
  }
 ],
 "metadata": {
  "kernelspec": {
   "display_name": "musicnet",
   "language": "python",
   "name": "python3"
  },
  "language_info": {
   "codemirror_mode": {
    "name": "ipython",
    "version": 3
   },
   "file_extension": ".py",
   "mimetype": "text/x-python",
   "name": "python",
   "nbconvert_exporter": "python",
   "pygments_lexer": "ipython3",
   "version": "3.10.5"
  }
 },
 "nbformat": 4,
 "nbformat_minor": 2
}
