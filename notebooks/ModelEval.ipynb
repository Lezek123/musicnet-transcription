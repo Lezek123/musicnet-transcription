{
 "cells": [
  {
   "cell_type": "code",
   "execution_count": 1,
   "metadata": {},
   "outputs": [],
   "source": [
    "import os\n",
    "import logging, os\n",
    "\n",
    "logging.disable(logging.WARNING)\n",
    "os.environ['TF_CPP_MIN_LOG_LEVEL'] = '2' "
   ]
  },
  {
   "cell_type": "code",
   "execution_count": 4,
   "metadata": {},
   "outputs": [],
   "source": [
    "import tensorflow as tf\n",
    "import keras\n",
    "from musicnet.preprocessing.wav_specs_and_notes.utils import create_tf_record_ds\n",
    "from musicnet.models.transformer.Transformer import F1FromSeqLogits, WeightedBinaryCrossentropy, WarmupLRSchedule\n",
    "from musicnet.utils import load_params, PROJECT_ROOT_DIR, notes_vocab\n",
    "from matplotlib import pyplot as plt\n",
    "import numpy as np\n",
    "from PIL import Image\n",
    "from utils import y_vs_y_pred_vis, spectogram_vis\n",
    "from ipywidgets import interact\n",
    "import librosa"
   ]
  },
  {
   "cell_type": "code",
   "execution_count": 5,
   "metadata": {},
   "outputs": [],
   "source": [
    "model = keras.models.load_model(\n",
    "    os.path.join(PROJECT_ROOT_DIR, \"musicnet\", \"models\", \"transformer\", \"model.keras\"),\n",
    "    {\n",
    "        \"WeightedBinaryCrossentropy\": WeightedBinaryCrossentropy,\n",
    "        \"F1FromSeqLogits\": F1FromSeqLogits,\n",
    "        \"WarmupLRSchedule\": WarmupLRSchedule\n",
    "    }\n",
    ")"
   ]
  },
  {
   "cell_type": "code",
   "execution_count": 6,
   "metadata": {},
   "outputs": [],
   "source": [
    "params = load_params([\n",
    "    \"transformer.*\",\n",
    "    \"wav_specs_and_notes.preprocessor.*\",\n",
    "    \"wav_specs_and_notes.use_converted_midis\"\n",
    "])"
   ]
  },
  {
   "cell_type": "code",
   "execution_count": 7,
   "metadata": {},
   "outputs": [],
   "source": [
    "ds_params = {\n",
    "    \"architecture\": params[\"architecture\"],\n",
    "    \"n_filters\": params[\"n_filters\"],\n",
    "    \"target_classes\": model.get_config()[\"target_classes\"],\n",
    "    \"batch_size\": params[\"batch_size\"],\n",
    "    \"dataset_size\": params[\"dataset_size\"],\n",
    "    \"use_converted_midis\": params[\"use_converted_midis\"]\n",
    "}"
   ]
  },
  {
   "cell_type": "code",
   "execution_count": 8,
   "metadata": {},
   "outputs": [],
   "source": [
    "train_ds = create_tf_record_ds(\"train\", **ds_params)\n",
    "val_ds = create_tf_record_ds(\"val\", **ds_params)"
   ]
  },
  {
   "cell_type": "code",
   "execution_count": 9,
   "metadata": {},
   "outputs": [
    {
     "name": "stdout",
     "output_type": "stream",
     "text": [
      "322/322 [==============================] - 18s 47ms/step - loss: 0.7923 - f1_score: 0.1852\n"
     ]
    },
    {
     "data": {
      "text/plain": [
       "[0.7923457622528076, 0.1851751059293747]"
      ]
     },
     "execution_count": 9,
     "metadata": {},
     "output_type": "execute_result"
    }
   ],
   "source": [
    "model.evaluate(val_ds)"
   ]
  },
  {
   "cell_type": "code",
   "execution_count": 8,
   "metadata": {},
   "outputs": [],
   "source": [
    "for x, y in val_ds:\n",
    "    break"
   ]
  },
  {
   "cell_type": "code",
   "execution_count": 9,
   "metadata": {},
   "outputs": [
    {
     "name": "stdout",
     "output_type": "stream",
     "text": [
      "(8, 1000, 200) (8, 1000, 83)\n"
     ]
    }
   ],
   "source": [
    "print(x.shape, y.shape)"
   ]
  },
  {
   "cell_type": "code",
   "execution_count": 14,
   "metadata": {},
   "outputs": [],
   "source": [
    "y_pred = model(x)\n",
    "y_pred = tf.sigmoid(y_pred)"
   ]
  },
  {
   "cell_type": "code",
   "execution_count": 22,
   "metadata": {},
   "outputs": [
    {
     "data": {
      "text/plain": [
       "{'target_sr': 44100, 'n_fft': 2205, 'min_hz': 0, 'n_filters': 200}"
      ]
     },
     "execution_count": 22,
     "metadata": {},
     "output_type": "execute_result"
    }
   ],
   "source": [
    "spectogram_params = { k: v for k, v in params.items() if k in [\"n_fft\", \"target_sr\", \"min_hz\", \"n_filters\"] }\n",
    "spectogram_params"
   ]
  },
  {
   "cell_type": "code",
   "execution_count": 62,
   "metadata": {},
   "outputs": [
    {
     "data": {
      "application/vnd.jupyter.widget-view+json": {
       "model_id": "ce344207302e464a82fa62b8ce492a5a",
       "version_major": 2,
       "version_minor": 0
      },
      "text/plain": [
       "interactive(children=(IntSlider(value=3, description='i', max=7), FloatSlider(value=0.5, description='t', max=…"
      ]
     },
     "metadata": {},
     "output_type": "display_data"
    }
   ],
   "source": [
    "spectogram_params = { k: v for k, v in params.items() if k in [\"n_fft\", \"target_sr\", \"min_hz\"] }\n",
    "\n",
    "@interact(i=(0, params[\"batch_size\"] - 1), t=(0.5, 1.0))\n",
    "def show_sample(i, t=0.5):\n",
    "    y_vs_y_pred_vis(y[i].numpy(), (y_pred > t)[i].numpy())\n",
    "    spectogram_vis(x[i].numpy(), **spectogram_params)"
   ]
  },
  {
   "cell_type": "code",
   "execution_count": 217,
   "metadata": {},
   "outputs": [],
   "source": [
    "# @tf.function\n",
    "# def run_inference(context, max_len=999, head_start=0):\n",
    "#     y_pred = tf.TensorArray(dtype=tf.bool, size=0, dynamic_size=True)\n",
    "#     for i in tf.range(head_start):\n",
    "#         y_pred = y_pred.write(i, y[-1, i, :])\n",
    "#     for i in tf.range(head_start, max_len):\n",
    "#         next_pred = model([context, [y_pred.stack()]], training=False)[-1, -1, :]\n",
    "#         next_pred = tf.sigmoid(next_pred)\n",
    "#         y_pred = y_pred.write(i, next_pred > 0.5)\n",
    "#     return y_pred.stack()"
   ]
  },
  {
   "cell_type": "code",
   "execution_count": 251,
   "metadata": {},
   "outputs": [],
   "source": [
    "# y_pred_infer = run_inference(context, y.shape[1], head_start=100)\n",
    "# y_pred_context = model([context, x])[0]\n",
    "# y_pred_context = tf.sigmoid(y_pred_context).numpy() > 0.5"
   ]
  }
 ],
 "metadata": {
  "kernelspec": {
   "display_name": ".venv",
   "language": "python",
   "name": "python3"
  },
  "language_info": {
   "codemirror_mode": {
    "name": "ipython",
    "version": 3
   },
   "file_extension": ".py",
   "mimetype": "text/x-python",
   "name": "python",
   "nbconvert_exporter": "python",
   "pygments_lexer": "ipython3",
   "version": "3.10.5"
  }
 },
 "nbformat": 4,
 "nbformat_minor": 2
}
