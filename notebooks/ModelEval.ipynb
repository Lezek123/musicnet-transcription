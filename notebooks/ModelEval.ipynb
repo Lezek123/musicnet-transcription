{
 "cells": [
  {
   "cell_type": "code",
   "execution_count": null,
   "metadata": {},
   "outputs": [],
   "source": [
    "import os\n",
    "import logging, os\n",
    "\n",
    "logging.disable(logging.WARNING)\n",
    "os.environ['TF_CPP_MIN_LOG_LEVEL'] = '2' "
   ]
  },
  {
   "cell_type": "code",
   "execution_count": null,
   "metadata": {},
   "outputs": [],
   "source": [
    "import tensorflow as tf\n",
    "import keras\n",
    "from musicnet.preprocessing.wav_specs_and_notes.utils import create_tf_record_ds\n",
    "from musicnet.models.transformer.Transformer import F1FromSeqLogits, WeightedBinaryCrossentropy, WarmupLRSchedule\n",
    "from musicnet.utils import load_params, PROJECT_ROOT_DIR, notes_vocab, instruments_vocab, note_frequency\n",
    "from matplotlib import pyplot as plt\n",
    "import numpy as np\n",
    "from PIL import Image\n",
    "from utils import y_vs_y_pred_vis, spectogram_vis\n",
    "from ipywidgets import interact\n",
    "import librosa\n",
    "import pandas as pd\n",
    "from tqdm import tqdm"
   ]
  },
  {
   "cell_type": "code",
   "execution_count": null,
   "metadata": {},
   "outputs": [],
   "source": [
    "tf.config.list_physical_devices(\"GPU\")"
   ]
  },
  {
   "cell_type": "code",
   "execution_count": null,
   "metadata": {},
   "outputs": [],
   "source": [
    "model = keras.models.load_model(\n",
    "    os.path.join(PROJECT_ROOT_DIR, \"musicnet\", \"models\", \"cnn\", \"model.keras\"),\n",
    "    {\n",
    "        \"WeightedBinaryCrossentropy\": WeightedBinaryCrossentropy,\n",
    "        \"F1FromSeqLogits\": F1FromSeqLogits,\n",
    "        \"WarmupLRSchedule\": WarmupLRSchedule\n",
    "    }\n",
    ")"
   ]
  },
  {
   "cell_type": "code",
   "execution_count": null,
   "metadata": {},
   "outputs": [],
   "source": [
    "params = load_params([\n",
    "    \"cnn.*\",\n",
    "    \"wav_specs_and_notes.preprocessor.target_sr\",\n",
    "    \"wav_specs_and_notes.preprocessor.spectogram.*\",\n",
    "    \"wav_specs_and_notes.use_converted_midis\",\n",
    "    \"midi_to_wav.programs_whitelist\"\n",
    "])"
   ]
  },
  {
   "cell_type": "code",
   "execution_count": null,
   "metadata": {},
   "outputs": [],
   "source": [
    "if params[\"programs_whitelist\"]:\n",
    "    target_classes = len(notes_vocab) * len(params[\"programs_whitelist\"])\n",
    "else:\n",
    "    target_classes = len(notes_vocab) * len(instruments_vocab)"
   ]
  },
  {
   "cell_type": "code",
   "execution_count": null,
   "metadata": {},
   "outputs": [],
   "source": [
    "ds_params = {\n",
    "    \"architecture\": \"cnn\",\n",
    "    \"n_filters\": params[\"n_filters\"],\n",
    "    \"target_classes\": target_classes,\n",
    "    \"batch_size\": params[\"batch_size\"],\n",
    "    \"dataset_size\": params[\"dataset_size\"],\n",
    "    \"use_converted_midis\": params[\"use_converted_midis\"]\n",
    "}"
   ]
  },
  {
   "cell_type": "code",
   "execution_count": null,
   "metadata": {},
   "outputs": [],
   "source": [
    "train_ds = create_tf_record_ds(\"train\", **ds_params)\n",
    "val_ds = create_tf_record_ds(\"val\", **ds_params, shuffle=False)"
   ]
  },
  {
   "cell_type": "code",
   "execution_count": null,
   "metadata": {},
   "outputs": [],
   "source": [
    "model.loss"
   ]
  },
  {
   "cell_type": "code",
   "execution_count": null,
   "metadata": {},
   "outputs": [],
   "source": [
    "model.compile(\n",
    "    loss=model.loss,\n",
    "    metrics=[\n",
    "        F1FromSeqLogits(threshold=0.5, average=\"weighted\", name=\"f1_weighted\"),\n",
    "        F1FromSeqLogits(threshold=0.5, average=\"micro\", name=\"f1_global\"),\n",
    "        keras.metrics.Precision(0, name=\"precision\"),\n",
    "        keras.metrics.Precision(0, name=\"precision_33\", class_id=33),\n",
    "        keras.metrics.Recall(0, name=\"recall\")\n",
    "    ]\n",
    ")"
   ]
  },
  {
   "cell_type": "code",
   "execution_count": null,
   "metadata": {},
   "outputs": [],
   "source": [
    "model.evaluate(val_ds)"
   ]
  },
  {
   "cell_type": "code",
   "execution_count": null,
   "metadata": {},
   "outputs": [],
   "source": [
    "y_pred = model.predict(val_ds)\n",
    "y_pred = tf.sigmoid(y_pred)"
   ]
  },
  {
   "cell_type": "code",
   "execution_count": null,
   "metadata": {},
   "outputs": [],
   "source": [
    "y_true = None\n",
    "for x_batch, y_batch in val_ds:\n",
    "    y_true = tf.concat((y_true, y_batch), axis=0) if y_true is not None else y_batch"
   ]
  },
  {
   "cell_type": "code",
   "execution_count": null,
   "metadata": {},
   "outputs": [],
   "source": [
    "print(y_pred.shape)\n",
    "print(y_true.shape)"
   ]
  },
  {
   "cell_type": "code",
   "execution_count": null,
   "metadata": {},
   "outputs": [],
   "source": [
    "def calc_per_note_stats(y_true, y_pred, threshold=0.5):\n",
    "    stats = []\n",
    "    for i in tqdm(list(range(0, len(notes_vocab)))):\n",
    "        precision = keras.metrics.Precision(threshold, class_id=i)(y_true, y_pred)\n",
    "        recall = keras.metrics.Recall(threshold, class_id=i)(y_true, y_pred)\n",
    "        true_count = tf.reduce_sum(y_true[:, :, i])\n",
    "        pred_count = tf.reduce_sum(tf.cast(y_pred[:, :, i] > threshold, tf.float32))\n",
    "        tp = tf.reduce_sum(\n",
    "            tf.cast(\n",
    "                ((y_pred[:, :, i] > threshold) & tf.cast(y_true[:, :, i], tf.bool)),\n",
    "                tf.float32\n",
    "            ))\n",
    "        stats.append({\n",
    "            \"note_idx\": i,\n",
    "            \"note_freq\": note_frequency(i),\n",
    "            \"true_count\": int(true_count.numpy()),\n",
    "            \"pred_count\": int(pred_count.numpy()),\n",
    "            \"tp\": int(tp.numpy()),\n",
    "            \"fp\": int(pred_count.numpy()) - int(tp.numpy()),\n",
    "            \"fn\": int(true_count.numpy()) - int(tp.numpy()),\n",
    "            \"precision\": round(precision.numpy(), 3),\n",
    "            \"recall\": round(recall.numpy(), 3)\n",
    "        })\n",
    "    return pd.DataFrame(stats)\n",
    "\n",
    "def calc_per_batch_stats(y_true, y_pred, threshold=0.5, batch_size=128):\n",
    "    stats = []\n",
    "    for x in tqdm(list(range(batch_size, y_true.shape[0] + 1, batch_size))):\n",
    "        y_true_batch = y_true[x-batch_size:x, :, :]\n",
    "        y_pred_batch = y_pred[x-batch_size:x, :, :]\n",
    "        precision = keras.metrics.Precision(threshold)(y_true_batch, y_pred_batch)\n",
    "        recall = keras.metrics.Recall(threshold)(y_true_batch, y_pred_batch)\n",
    "        true_count = tf.reduce_sum(y_true_batch)\n",
    "        pred_count = tf.reduce_sum(tf.cast(y_pred_batch > threshold, tf.float32))\n",
    "        tp = tf.reduce_sum(\n",
    "            tf.cast(\n",
    "                ((y_pred_batch > threshold) & tf.cast(y_true_batch, tf.bool)),\n",
    "                tf.float32\n",
    "            ))\n",
    "        stats.append({\n",
    "            \"batch\": x // batch_size,\n",
    "            \"true_count\": int(true_count.numpy()),\n",
    "            \"pred_count\": int(pred_count.numpy()),\n",
    "            \"tp\": int(tp.numpy()),\n",
    "            \"fp\": int(pred_count.numpy()) - int(tp.numpy()),\n",
    "            \"fn\": int(true_count.numpy()) - int(tp.numpy()),\n",
    "            \"precision\": round(precision.numpy(), 3),\n",
    "            \"recall\": round(recall.numpy(), 3)\n",
    "        })\n",
    "    return pd.DataFrame(stats)"
   ]
  },
  {
   "cell_type": "code",
   "execution_count": null,
   "metadata": {},
   "outputs": [],
   "source": [
    "per_note_stats = calc_per_note_stats(y_true, y_pred)\n",
    "pd.set_option(\"display.max_rows\", 100)\n",
    "per_note_stats"
   ]
  },
  {
   "cell_type": "code",
   "execution_count": null,
   "metadata": {},
   "outputs": [],
   "source": [
    "per_batch_stats = calc_per_batch_stats(y_true, y_pred, batch_size=128)\n",
    "pd.set_option(\"display.max_rows\", 100)\n",
    "per_batch_stats"
   ]
  },
  {
   "cell_type": "code",
   "execution_count": null,
   "metadata": {},
   "outputs": [],
   "source": [
    "plt.plot(per_note_stats[\"precision\"])\n",
    "plt.plot(per_note_stats[\"recall\"])"
   ]
  },
  {
   "cell_type": "code",
   "execution_count": null,
   "metadata": {},
   "outputs": [],
   "source": [
    "for x, y in val_ds:\n",
    "    break"
   ]
  },
  {
   "cell_type": "code",
   "execution_count": null,
   "metadata": {},
   "outputs": [],
   "source": [
    "print(x.shape, y.shape)"
   ]
  },
  {
   "cell_type": "code",
   "execution_count": null,
   "metadata": {},
   "outputs": [],
   "source": [
    "y_pred = model(x)\n",
    "y_pred = tf.sigmoid(y_pred)"
   ]
  },
  {
   "cell_type": "code",
   "execution_count": null,
   "metadata": {},
   "outputs": [],
   "source": [
    "spectogram_params = { k: v for k, v in params.items() if k in [\"n_fft\", \"target_sr\", \"min_hz\"] }\n",
    "\n",
    "@interact(i=(0, params[\"batch_size\"] - 1), t=(0.5, 1.0))\n",
    "def show_sample(i, t=0.5):\n",
    "    y_vs_y_pred_vis(y[i].numpy(), (y_pred > t)[i].numpy())\n",
    "    spectogram_vis(x[i].numpy(), **spectogram_params)"
   ]
  },
  {
   "cell_type": "code",
   "execution_count": null,
   "metadata": {},
   "outputs": [],
   "source": [
    "# @tf.function\n",
    "# def run_inference(context, max_len=999, head_start=0):\n",
    "#     y_pred = tf.TensorArray(dtype=tf.bool, size=0, dynamic_size=True)\n",
    "#     for i in tf.range(head_start):\n",
    "#         y_pred = y_pred.write(i, y[-1, i, :])\n",
    "#     for i in tf.range(head_start, max_len):\n",
    "#         next_pred = model([context, [y_pred.stack()]], training=False)[-1, -1, :]\n",
    "#         next_pred = tf.sigmoid(next_pred)\n",
    "#         y_pred = y_pred.write(i, next_pred > 0.5)\n",
    "#     return y_pred.stack()"
   ]
  },
  {
   "cell_type": "code",
   "execution_count": null,
   "metadata": {},
   "outputs": [],
   "source": [
    "# y_pred_infer = run_inference(context, y.shape[1], head_start=100)\n",
    "# y_pred_context = model([context, x])[0]\n",
    "# y_pred_context = tf.sigmoid(y_pred_context).numpy() > 0.5"
   ]
  }
 ],
 "metadata": {
  "kernelspec": {
   "display_name": ".venv",
   "language": "python",
   "name": "python3"
  },
  "language_info": {
   "codemirror_mode": {
    "name": "ipython",
    "version": 3
   },
   "file_extension": ".py",
   "mimetype": "text/x-python",
   "name": "python",
   "nbconvert_exporter": "python",
   "pygments_lexer": "ipython3",
   "version": "3.10.5"
  }
 },
 "nbformat": 4,
 "nbformat_minor": 2
}
